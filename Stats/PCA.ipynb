{
 "cells": [
  {
   "cell_type": "code",
   "execution_count": null,
   "metadata": {},
   "outputs": [],
   "source": [
    "import pandas as pd \n",
    "import numpy as np \n",
    "import matplotlib.pyplot as plt \n",
    "import seaborn as sns \n",
    "%matplotlib inline "
   ]
  },
  {
   "cell_type": "code",
   "execution_count": null,
   "metadata": {},
   "outputs": [],
   "source": [
    "from sklearn.datasets import load_breast_cancer \n"
   ]
  },
  {
   "cell_type": "code",
   "execution_count": null,
   "metadata": {},
   "outputs": [],
   "source": [
    "# instantiating \n",
    "cancer = load_breast_cancer() \n",
    "# creating dataframe \n",
    "df = pd.DataFrame(cancer['data'], columns = cancer['feature_names']) \n",
    "# checking head of dataframe \n",
    "df.head() \n"
   ]
  },
  {
   "cell_type": "code",
   "execution_count": null,
   "metadata": {},
   "outputs": [],
   "source": [
    "# Importing standardscalar module \n",
    "from sklearn.preprocessing import StandardScaler \n",
    "scalar = StandardScaler() \n",
    "# fitting \n",
    "scalar.fit(df) \n",
    "scaled_data = scalar.transform(df) \n",
    "# Importing PCA \n",
    "from sklearn.decomposition import PCA \n",
    "# Let's say, components = 2 \n",
    "pca = PCA(n_components = 2) \n",
    "pca.fit(scaled_data) \n",
    "x_pca = pca.transform(scaled_data) \n",
    "x_pca.shape\n",
    "(569, 2) \n"
   ]
  },
  {
   "cell_type": "code",
   "execution_count": null,
   "metadata": {},
   "outputs": [],
   "source": [
    "# giving a larger plot \n",
    "plt.figure(figsize =(8, 6)) \n",
    "plt.scatter(x_pca[:, 0], x_pca[:, 1], c = cancer['target'], cmap ='plasma') \n",
    "# labeling x and y axes \n",
    "plt.xlabel('First Principal Component') \n",
    "plt.ylabel('Second Principal Component') \n"
   ]
  },
  {
   "cell_type": "code",
   "execution_count": null,
   "metadata": {},
   "outputs": [],
   "source": [
    "# components \n",
    "pca.components_ \n"
   ]
  },
  {
   "cell_type": "code",
   "execution_count": null,
   "metadata": {},
   "outputs": [],
   "source": [
    "df_comp = pd.DataFrame(pca.components_, columns = cancer['feature_names'])\n",
    "plt.figure(figsize =(14, 6)) \n",
    "# plotting heatmap \n",
    "sns.heatmap(df_comp)\n"
   ]
  }
 ],
 "metadata": {
  "interpreter": {
   "hash": "00f843e886a27d989ec0903a6e2cc289f27a6f2c3c31cf996999dae47f399f3c"
  },
  "kernelspec": {
   "display_name": "Python 3.10.1 64-bit",
   "language": "python",
   "name": "python3"
  },
  "language_info": {
   "codemirror_mode": {
    "name": "ipython",
    "version": 3
   },
   "file_extension": ".py",
   "mimetype": "text/x-python",
   "name": "python",
   "nbconvert_exporter": "python",
   "pygments_lexer": "ipython3",
   "version": "3.10.1"
  },
  "orig_nbformat": 4
 },
 "nbformat": 4,
 "nbformat_minor": 2
}
